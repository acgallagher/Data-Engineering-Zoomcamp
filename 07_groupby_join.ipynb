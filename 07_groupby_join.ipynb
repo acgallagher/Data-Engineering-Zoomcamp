{
 "cells": [
  {
   "cell_type": "code",
   "execution_count": 88,
   "metadata": {},
   "outputs": [],
   "source": [
    "import pyspark\n",
    "from pyspark.sql import SparkSession\n",
    "\n",
    "spark = SparkSession.builder \\\n",
    "        .master(\"local[*]\") \\\n",
    "        .appName(\"test\") \\\n",
    "        .config(\"spark.driver.memory\", \"4g\") \\\n",
    "        .config(\"spark.executor.memory\", \"4g\") \\\n",
    "        .getOrCreate()"
   ]
  },
  {
   "cell_type": "code",
   "execution_count": 89,
   "metadata": {},
   "outputs": [
    {
     "name": "stderr",
     "output_type": "stream",
     "text": [
      "/home/andrewgallagher/Documents/Repositories/Data-Engineering-Zoomcamp/week5/venv/lib64/python3.10/site-packages/pyspark/sql/dataframe.py:229: FutureWarning: Deprecated in 2.0, use createOrReplaceTempView instead.\n",
      "  warnings.warn(\"Deprecated in 2.0, use createOrReplaceTempView instead.\", FutureWarning)\n"
     ]
    }
   ],
   "source": [
    "df_green = spark.read.parquet('data/pq/green/*/*')\n",
    "df_green.registerTempTable('green')"
   ]
  },
  {
   "cell_type": "code",
   "execution_count": 90,
   "metadata": {},
   "outputs": [],
   "source": [
    "df_green_revenue = spark.sql(\"\"\"\n",
    "SELECT \n",
    "    -- Revenue grouping \n",
    "    PULocationID AS zone,\n",
    "    date_trunc('hour', lpep_pickup_datetime) AS time, \n",
    "    \n",
    "    SUM(total_amount) AS amount,\n",
    "    COUNT(*) AS number_records\n",
    "FROM\n",
    "    green\n",
    "WHERE lpep_pickup_datetime >= '2020-01-01 00:00:00' \n",
    "GROUP BY\n",
    "    1, 2\n",
    "ORDER BY \n",
    "    1, 2;\n",
    "\"\"\")"
   ]
  },
  {
   "cell_type": "code",
   "execution_count": 91,
   "metadata": {},
   "outputs": [
    {
     "name": "stdout",
     "output_type": "stream",
     "text": [
      "+----+-------------------+------+--------------+\n",
      "|zone|               time|amount|number_records|\n",
      "+----+-------------------+------+--------------+\n",
      "|   1|2020-01-01 03:00:00| 155.3|             1|\n",
      "|   1|2020-01-03 05:00:00|117.39|             1|\n",
      "|   1|2020-01-26 10:00:00| 85.56|             1|\n",
      "|   1|2020-01-29 18:00:00|108.36|             1|\n",
      "|   1|2020-02-01 06:00:00|115.56|             1|\n",
      "|   1|2020-02-06 07:00:00|  98.3|             1|\n",
      "|   1|2020-02-16 07:00:00|  95.3|             1|\n",
      "|   1|2020-02-17 13:00:00|  82.3|             1|\n",
      "|   1|2020-02-26 17:00:00| 49.38|             1|\n",
      "|   1|2020-03-02 15:00:00|  88.3|             1|\n",
      "|   1|2020-03-11 12:00:00|103.56|             1|\n",
      "|   1|2020-03-12 11:00:00|  61.1|             1|\n",
      "|   1|2020-03-14 11:00:00|  16.0|             1|\n",
      "|   1|2020-03-21 17:00:00| 100.3|             1|\n",
      "|   1|2020-04-10 13:00:00| 150.3|             1|\n",
      "|   1|2020-04-23 08:00:00| 37.85|             1|\n",
      "|   1|2020-07-12 07:00:00| 79.05|             1|\n",
      "|   1|2020-07-15 06:00:00|  65.3|             1|\n",
      "|   1|2020-07-18 18:00:00| 92.55|             1|\n",
      "|   1|2020-08-16 15:00:00|  74.8|             1|\n",
      "+----+-------------------+------+--------------+\n",
      "only showing top 20 rows\n",
      "\n"
     ]
    }
   ],
   "source": [
    "df_green_revenue.show()"
   ]
  },
  {
   "cell_type": "code",
   "execution_count": 92,
   "metadata": {},
   "outputs": [],
   "source": [
    "df_green_revenue \\\n",
    "    .repartition(20) \\\n",
    "    .write.parquet('data/report/revenue/green', mode=\"overwrite\")"
   ]
  },
  {
   "cell_type": "code",
   "execution_count": 93,
   "metadata": {},
   "outputs": [],
   "source": [
    "df_yellow = spark.read.parquet('data/pq/yellow/*/*')\n",
    "df_yellow.registerTempTable('yellow')"
   ]
  },
  {
   "cell_type": "code",
   "execution_count": 94,
   "metadata": {},
   "outputs": [],
   "source": [
    "df_yellow_revenue = spark.sql(\"\"\"\n",
    "SELECT \n",
    "    -- Revenue grouping \n",
    "    PULocationID AS zone,\n",
    "    date_trunc('hour', tpep_pickup_datetime) AS time, \n",
    "    \n",
    "    SUM(total_amount) AS amount,\n",
    "    COUNT(*) AS number_records\n",
    "FROM\n",
    "    yellow\n",
    "WHERE tpep_pickup_datetime >= '2020-01-01 00:00:00' \n",
    "GROUP BY\n",
    "    1, 2\n",
    "ORDER BY \n",
    "    1, 2;\n",
    "\"\"\")"
   ]
  },
  {
   "cell_type": "code",
   "execution_count": 95,
   "metadata": {},
   "outputs": [
    {
     "name": "stdout",
     "output_type": "stream",
     "text": [
      "+----+-------------------+------+--------------+\n",
      "|zone|               time|amount|number_records|\n",
      "+----+-------------------+------+--------------+\n",
      "|   1|2020-01-01 03:00:00| 155.3|             1|\n",
      "|   1|2020-01-03 05:00:00|117.39|             1|\n",
      "|   1|2020-01-26 10:00:00| 85.56|             1|\n",
      "|   1|2020-01-29 18:00:00|108.36|             1|\n",
      "|   1|2020-02-01 06:00:00|115.56|             1|\n",
      "|   1|2020-02-06 07:00:00|  98.3|             1|\n",
      "|   1|2020-02-16 07:00:00|  95.3|             1|\n",
      "|   1|2020-02-17 13:00:00|  82.3|             1|\n",
      "|   1|2020-02-26 17:00:00| 49.38|             1|\n",
      "|   1|2020-03-02 15:00:00|  88.3|             1|\n",
      "|   1|2020-03-11 12:00:00|103.56|             1|\n",
      "|   1|2020-03-12 11:00:00|  61.1|             1|\n",
      "|   1|2020-03-14 11:00:00|  16.0|             1|\n",
      "|   1|2020-03-21 17:00:00| 100.3|             1|\n",
      "|   1|2020-04-10 13:00:00| 150.3|             1|\n",
      "|   1|2020-04-23 08:00:00| 37.85|             1|\n",
      "|   1|2020-07-12 07:00:00| 79.05|             1|\n",
      "|   1|2020-07-15 06:00:00|  65.3|             1|\n",
      "|   1|2020-07-18 18:00:00| 92.55|             1|\n",
      "|   1|2020-08-16 15:00:00|  74.8|             1|\n",
      "+----+-------------------+------+--------------+\n",
      "only showing top 20 rows\n",
      "\n"
     ]
    }
   ],
   "source": [
    "df_green_revenue.show()"
   ]
  },
  {
   "cell_type": "code",
   "execution_count": 96,
   "metadata": {},
   "outputs": [
    {
     "name": "stderr",
     "output_type": "stream",
     "text": [
      "                                                                                \r"
     ]
    }
   ],
   "source": [
    "df_yellow_revenue \\\n",
    "    .repartition(20) \\\n",
    "    .write.parquet('data/report/revenue/yellow', mode=\"overwrite\")"
   ]
  },
  {
   "cell_type": "code",
   "execution_count": 97,
   "metadata": {},
   "outputs": [],
   "source": [
    "df_green_revenue_tmp = df_green_revenue \\\n",
    "    .withColumnRenamed('amount', 'amount_green') \\\n",
    "    .withColumnRenamed('number_records', 'number_records_green')\n",
    "\n",
    "df_yellow_revenue_tmp = df_yellow_revenue \\\n",
    "    .withColumnRenamed('amount', 'amount_yellow') \\\n",
    "    .withColumnRenamed('number_records', 'number_records_yellow')"
   ]
  },
  {
   "cell_type": "code",
   "execution_count": 98,
   "metadata": {},
   "outputs": [
    {
     "name": "stderr",
     "output_type": "stream",
     "text": [
      "[Stage 238:=====================================================> (33 + 1) / 34]\r"
     ]
    },
    {
     "name": "stdout",
     "output_type": "stream",
     "text": [
      "+-------------------+----+------------+--------------------+------------------+---------------------+\n",
      "|               time|zone|amount_green|number_records_green|     amount_yellow|number_records_yellow|\n",
      "+-------------------+----+------------+--------------------+------------------+---------------------+\n",
      "|2020-01-01 06:00:00|   1|        null|                null|445.28000000000003|                    4|\n",
      "|2020-01-01 07:00:00|   1|        null|                null|              0.31|                    1|\n",
      "|2020-01-01 13:00:00|   1|        null|                null|            213.36|                    2|\n",
      "|2020-01-03 06:00:00|   1|        null|                null|            174.36|                    1|\n",
      "|2020-01-04 15:00:00|   1|        null|                null|            460.06|                    6|\n",
      "|2020-01-05 08:00:00|   1|        null|                null|            221.76|                    2|\n",
      "|2020-01-05 18:00:00|   1|        null|                null|            302.56|                    3|\n",
      "|2020-01-07 07:00:00|   1|        null|                null|              60.3|                    1|\n",
      "|2020-01-08 09:00:00|   1|        null|                null|              93.9|                    1|\n",
      "|2020-01-10 20:00:00|   1|        null|                null|             130.8|                    1|\n",
      "|2020-01-15 18:00:00|   1|        null|                null|            440.37|                    4|\n",
      "|2020-01-18 10:00:00|   1|        null|                null|            102.35|                    1|\n",
      "|2020-01-18 11:00:00|   1|        null|                null|              90.8|                    1|\n",
      "|2020-01-24 13:00:00|   1|        null|                null|            239.24|                    2|\n",
      "|2020-01-29 10:00:00|   1|        null|                null|            227.23|                    2|\n",
      "|2020-01-31 14:00:00|   1|        null|                null|258.40999999999997|                    2|\n",
      "|2020-02-01 12:00:00|   1|        null|                null|             194.1|                    2|\n",
      "|2020-02-01 20:00:00|   1|        null|                null|              20.8|                    1|\n",
      "|2020-02-02 18:00:00|   1|        null|                null|             196.1|                    2|\n",
      "|2020-02-04 01:00:00|   1|        null|                null|              85.8|                    1|\n",
      "+-------------------+----+------------+--------------------+------------------+---------------------+\n",
      "only showing top 20 rows\n",
      "\n"
     ]
    },
    {
     "name": "stderr",
     "output_type": "stream",
     "text": [
      "                                                                                \r"
     ]
    }
   ],
   "source": [
    "df_join = df_green_revenue_tmp.join(df_yellow_revenue_tmp, on=['time', 'zone'], how='outer')\n",
    "df_join.show()"
   ]
  },
  {
   "cell_type": "code",
   "execution_count": 99,
   "metadata": {},
   "outputs": [
    {
     "name": "stderr",
     "output_type": "stream",
     "text": [
      "                                                                                \r"
     ]
    }
   ],
   "source": [
    "df_join \\\n",
    "    .write \\\n",
    "    .parquet('data/report/revenue/total', mode='overwrite')"
   ]
  },
  {
   "cell_type": "code",
   "execution_count": 100,
   "metadata": {},
   "outputs": [],
   "source": [
    "df_join = spark.read.parquet('data/report/revenue/total')"
   ]
  },
  {
   "cell_type": "code",
   "execution_count": 102,
   "metadata": {},
   "outputs": [],
   "source": [
    "df_zones = spark \\\n",
    "    .read \\\n",
    "    .option(\"header\", \"true\") \\\n",
    "    .option(\"inferSchema\", \"true\") \\\n",
    "    .csv('data/raw/zones/')"
   ]
  },
  {
   "cell_type": "code",
   "execution_count": 103,
   "metadata": {},
   "outputs": [
    {
     "name": "stdout",
     "output_type": "stream",
     "text": [
      "+----------+-------------+--------------------+------------+\n",
      "|LocationID|      Borough|                Zone|service_zone|\n",
      "+----------+-------------+--------------------+------------+\n",
      "|         1|          EWR|      Newark Airport|         EWR|\n",
      "|         2|       Queens|         Jamaica Bay|   Boro Zone|\n",
      "|         3|        Bronx|Allerton/Pelham G...|   Boro Zone|\n",
      "|         4|    Manhattan|       Alphabet City| Yellow Zone|\n",
      "|         5|Staten Island|       Arden Heights|   Boro Zone|\n",
      "|         6|Staten Island|Arrochar/Fort Wad...|   Boro Zone|\n",
      "|         7|       Queens|             Astoria|   Boro Zone|\n",
      "|         8|       Queens|        Astoria Park|   Boro Zone|\n",
      "|         9|       Queens|          Auburndale|   Boro Zone|\n",
      "|        10|       Queens|        Baisley Park|   Boro Zone|\n",
      "|        11|     Brooklyn|          Bath Beach|   Boro Zone|\n",
      "|        12|    Manhattan|        Battery Park| Yellow Zone|\n",
      "|        13|    Manhattan|   Battery Park City| Yellow Zone|\n",
      "|        14|     Brooklyn|           Bay Ridge|   Boro Zone|\n",
      "|        15|       Queens|Bay Terrace/Fort ...|   Boro Zone|\n",
      "|        16|       Queens|             Bayside|   Boro Zone|\n",
      "|        17|     Brooklyn|             Bedford|   Boro Zone|\n",
      "|        18|        Bronx|        Bedford Park|   Boro Zone|\n",
      "|        19|       Queens|           Bellerose|   Boro Zone|\n",
      "|        20|        Bronx|             Belmont|   Boro Zone|\n",
      "+----------+-------------+--------------------+------------+\n",
      "only showing top 20 rows\n",
      "\n"
     ]
    }
   ],
   "source": [
    "df_zones.show()"
   ]
  },
  {
   "cell_type": "code",
   "execution_count": 104,
   "metadata": {},
   "outputs": [
    {
     "name": "stdout",
     "output_type": "stream",
     "text": [
      "root\n",
      " |-- LocationID: integer (nullable = true)\n",
      " |-- Borough: string (nullable = true)\n",
      " |-- Zone: string (nullable = true)\n",
      " |-- service_zone: string (nullable = true)\n",
      "\n"
     ]
    }
   ],
   "source": [
    "df_zones.printSchema()"
   ]
  },
  {
   "cell_type": "code",
   "execution_count": 111,
   "metadata": {},
   "outputs": [
    {
     "name": "stdout",
     "output_type": "stream",
     "text": [
      "+-------------------+------------+--------------------+------------------+---------------------+-------+------------+\n",
      "|               time|amount_green|number_records_green|     amount_yellow|number_records_yellow|Borough|service_zone|\n",
      "+-------------------+------------+--------------------+------------------+---------------------+-------+------------+\n",
      "|2020-01-01 20:00:00|        null|                null|             96.96|                    3|    EWR|         EWR|\n",
      "|2020-01-02 01:00:00|        null|                null|             84.36|                    1|    EWR|         EWR|\n",
      "|2020-01-02 21:00:00|        null|                null|             100.3|                    1|    EWR|         EWR|\n",
      "|2020-01-07 02:00:00|        null|                null|              46.8|                    1|    EWR|         EWR|\n",
      "|2020-01-13 22:00:00|        null|                null|            125.35|                    1|    EWR|         EWR|\n",
      "|2020-01-14 06:00:00|        null|                null|233.20999999999998|                    2|    EWR|         EWR|\n",
      "|2020-01-15 09:00:00|        null|                null|              34.8|                    1|    EWR|         EWR|\n",
      "|2020-01-15 12:00:00|        null|                null|              80.3|                    1|    EWR|         EWR|\n",
      "|2020-01-16 14:00:00|        null|                null|            108.36|                    1|    EWR|         EWR|\n",
      "|2020-01-17 06:00:00|        null|                null|             119.1|                    1|    EWR|         EWR|\n",
      "|2020-01-17 15:00:00|        null|                null|478.41999999999996|                    6|    EWR|         EWR|\n",
      "|2020-01-17 16:00:00|        null|                null|            336.48|                    3|    EWR|         EWR|\n",
      "|2020-01-20 08:00:00|        null|                null|              97.5|                    1|    EWR|         EWR|\n",
      "|2020-01-20 20:00:00|        null|                null|136.16000000000003|                    2|    EWR|         EWR|\n",
      "|2020-01-21 19:00:00|        null|                null|            102.96|                    1|    EWR|         EWR|\n",
      "|2020-01-22 19:00:00|        null|                null|            124.54|                    1|    EWR|         EWR|\n",
      "|2020-01-23 06:00:00|        null|                null|            245.87|                    2|    EWR|         EWR|\n",
      "|2020-01-24 16:00:00|        null|                null|            130.39|                    1|    EWR|         EWR|\n",
      "|2020-01-30 11:00:00|        null|                null|235.70000000000002|                    2|    EWR|         EWR|\n",
      "|2020-01-31 12:00:00|        null|                null|            192.96|                    1|    EWR|         EWR|\n",
      "+-------------------+------------+--------------------+------------------+---------------------+-------+------------+\n",
      "only showing top 20 rows\n",
      "\n"
     ]
    }
   ],
   "source": [
    "df_result = df_join.join(df_zones, df_join.zone == df_zones.LocationID, how='inner')\n",
    "df_result = df_result.drop(\"LocationID\", \"zone\")\n",
    "df_result.show()"
   ]
  },
  {
   "cell_type": "code",
   "execution_count": 113,
   "metadata": {},
   "outputs": [],
   "source": [
    "df_result \\\n",
    "    .write \\\n",
    "    .parquet('data/tmp', mode='overwrite')"
   ]
  },
  {
   "cell_type": "code",
   "execution_count": null,
   "metadata": {},
   "outputs": [],
   "source": []
  }
 ],
 "metadata": {
  "kernelspec": {
   "display_name": "venv",
   "language": "python",
   "name": "python3"
  },
  "language_info": {
   "codemirror_mode": {
    "name": "ipython",
    "version": 3
   },
   "file_extension": ".py",
   "mimetype": "text/x-python",
   "name": "python",
   "nbconvert_exporter": "python",
   "pygments_lexer": "ipython3",
   "version": "3.10.10"
  },
  "orig_nbformat": 4,
  "vscode": {
   "interpreter": {
    "hash": "652a1d55e9afb623b30ddc2aa263132301c581c6fe7e54a5d1964cdb27c748fe"
   }
  }
 },
 "nbformat": 4,
 "nbformat_minor": 2
}
